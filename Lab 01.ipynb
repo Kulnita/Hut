{
  "cells": [
    {
      "cell_type": "code",
      "execution_count": null,
      "id": "58bfea3b-5eb9-4eeb-96cf-3627473340c4",
      "metadata": {
        "id": "58bfea3b-5eb9-4eeb-96cf-3627473340c4"
      },
      "outputs": [],
      "source": [
        "!pip install patool --quiet\n",
        "\n",
        "import os, warnings\n",
        "\n",
        "warnings.filterwarnings(\"ignore\")"
      ]
    },
    {
      "cell_type": "code",
      "execution_count": 2,
      "id": "86f2fade-cac4-42d0-8ef9-4a72692e073a",
      "metadata": {
        "id": "86f2fade-cac4-42d0-8ef9-4a72692e073a"
      },
      "outputs": [],
      "source": [
        "import tensorflow as tf\n",
        "\n",
        "import os, patoolib, urllib"
      ]
    },
    {
      "cell_type": "code",
      "execution_count": null,
      "id": "592c7a72-a659-4069-a267-0d1c3671560f",
      "metadata": {
        "id": "592c7a72-a659-4069-a267-0d1c3671560f"
      },
      "outputs": [],
      "source": [
        "urli = \"https://github.com/dicodingacademy/assets/releases/download/release/\"\n",
        "\n",
        "dataset = \"rockpaperscissors.zip\"\n",
        "\n",
        "urllib.request.urlretrieve(os.path.join(urli, dataset), dataset)"
      ]
    },
    {
      "cell_type": "code",
      "execution_count": null,
      "id": "03af1189-5de5-4c15-8fb1-7822f6704283",
      "metadata": {
        "id": "03af1189-5de5-4c15-8fb1-7822f6704283"
      },
      "outputs": [],
      "source": [
        "content = \"/content/rockpaperscissors.zip\"\n",
        "\n",
        "patoolib.extract_archive(content)"
      ]
    },
    {
      "cell_type": "code",
      "execution_count": 5,
      "id": "4f5ea0b3-e2f9-4779-80fd-eb10c06764e2",
      "metadata": {
        "id": "4f5ea0b3-e2f9-4779-80fd-eb10c06764e2",
        "outputId": "b101ef71-5a99-41e2-9e06-d5cd9de88992",
        "colab": {
          "base_uri": "https://localhost:8080/"
        }
      },
      "outputs": [
        {
          "output_type": "execute_result",
          "data": {
            "text/plain": [
              "['paper', 'scissors', 'README_rpc-cv-images.txt', 'rock']"
            ]
          },
          "metadata": {},
          "execution_count": 5
        }
      ],
      "source": [
        "rooter = \"/content/rockpaperscissors/rockpaperscissors/rps-cv-images\"\n",
        "\n",
        "os.listdir(rooter)"
      ]
    },
    {
      "cell_type": "code",
      "source": [
        "from tensorflow.keras.preprocessing.image import ImageDataGenerator\n",
        "\n",
        "rescale = 1.0 / 255.0; input_image = (150, 150)\n",
        "\n",
        "class_label = \"categorical\"; batches = 18\n",
        "\n",
        "trainer = ImageDataGenerator(\n",
        "  rescale = rescale,\n",
        "  rotation_range = 20,\n",
        "  zoom_range = 0.2,\n",
        "  shear_range = 0.2,\n",
        "  fill_mode = \"nearest\"\n",
        ")\n",
        "\n",
        "train = trainer.flow_from_directory(\n",
        "  rooter,\n",
        "  target_size = input_image,\n",
        "  batch_size = batches,\n",
        "  class_mode = class_label,\n",
        "  subset = \"training\"\n",
        ")"
      ],
      "metadata": {
        "id": "tP24qw3cyCXy"
      },
      "id": "tP24qw3cyCXy",
      "execution_count": null,
      "outputs": []
    },
    {
      "cell_type": "code",
      "execution_count": 7,
      "id": "a69009fc-2e26-43fc-872a-c7ee99afee27",
      "metadata": {
        "id": "a69009fc-2e26-43fc-872a-c7ee99afee27",
        "outputId": "55233960-d8e4-4caf-ab4c-6067566737f4",
        "colab": {
          "base_uri": "https://localhost:8080/"
        }
      },
      "outputs": [
        {
          "output_type": "execute_result",
          "data": {
            "text/plain": [
              "{'paper': 0, 'rock': 1, 'scissors': 2}"
            ]
          },
          "metadata": {},
          "execution_count": 7
        }
      ],
      "source": [
        "train.class_indices"
      ]
    },
    {
      "cell_type": "code",
      "source": [
        "label = list(train.class_indices.keys())\n",
        "\n",
        "label"
      ],
      "metadata": {
        "id": "Zdd9ZPf9zk63",
        "outputId": "19e01981-7a61-4af2-d5a1-b3c8a5ff9963",
        "colab": {
          "base_uri": "https://localhost:8080/"
        }
      },
      "id": "Zdd9ZPf9zk63",
      "execution_count": 8,
      "outputs": [
        {
          "output_type": "execute_result",
          "data": {
            "text/plain": [
              "['paper', 'rock', 'scissors']"
            ]
          },
          "metadata": {},
          "execution_count": 8
        }
      ]
    }
  ],
  "metadata": {
    "kernelspec": {
      "display_name": "Python 3 (ipykernel)",
      "language": "python",
      "name": "python3"
    },
    "language_info": {
      "codemirror_mode": {
        "name": "ipython",
        "version": 3
      },
      "file_extension": ".py",
      "mimetype": "text/x-python",
      "name": "python",
      "nbconvert_exporter": "python",
      "pygments_lexer": "ipython3",
      "version": "3.9.13"
    },
    "colab": {
      "provenance": []
    }
  },
  "nbformat": 4,
  "nbformat_minor": 5
}