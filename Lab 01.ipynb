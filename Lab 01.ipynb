{
  "cells": [
    {
      "cell_type": "code",
      "execution_count": null,
      "id": "58bfea3b-5eb9-4eeb-96cf-3627473340c4",
      "metadata": {
        "id": "58bfea3b-5eb9-4eeb-96cf-3627473340c4"
      },
      "outputs": [],
      "source": [
        "!pip install patool --quiet\n",
        "\n",
        "import os, warnings\n",
        "\n",
        "warnings.filterwarnings(\"ignore\")"
      ]
    },
    {
      "cell_type": "code",
      "execution_count": 2,
      "id": "86f2fade-cac4-42d0-8ef9-4a72692e073a",
      "metadata": {
        "id": "86f2fade-cac4-42d0-8ef9-4a72692e073a"
      },
      "outputs": [],
      "source": [
        "import tensorflow as tf\n",
        "\n",
        "import os, patoolib, urllib"
      ]
    },
    {
      "cell_type": "code",
      "execution_count": null,
      "id": "592c7a72-a659-4069-a267-0d1c3671560f",
      "metadata": {
        "id": "592c7a72-a659-4069-a267-0d1c3671560f"
      },
      "outputs": [],
      "source": [
        "urli = \"https://github.com/dicodingacademy/assets/releases/download/release/\"\n",
        "\n",
        "dataset = \"rockpaperscissors.zip\"\n",
        "\n",
        "urllib.request.urlretrieve(os.path.join(urli, dataset), dataset)"
      ]
    },
    {
      "cell_type": "code",
      "execution_count": null,
      "id": "03af1189-5de5-4c15-8fb1-7822f6704283",
      "metadata": {
        "id": "03af1189-5de5-4c15-8fb1-7822f6704283"
      },
      "outputs": [],
      "source": [
        "content = \"/content/rockpaperscissors.zip\"\n",
        "\n",
        "patoolib.extract_archive(content)"
      ]
    },
    {
      "cell_type": "code",
      "execution_count": 5,
      "id": "4f5ea0b3-e2f9-4779-80fd-eb10c06764e2",
      "metadata": {
        "id": "4f5ea0b3-e2f9-4779-80fd-eb10c06764e2",
        "outputId": "c77869ec-de2b-4fce-88a5-5929611e0545",
        "colab": {
          "base_uri": "https://localhost:8080/"
        }
      },
      "outputs": [
        {
          "output_type": "execute_result",
          "data": {
            "text/plain": [
              "['README_rpc-cv-images.txt', 'rock', 'scissors', 'paper']"
            ]
          },
          "metadata": {},
          "execution_count": 5
        }
      ],
      "source": [
        "rooter = \"/content/rockpaperscissors/rockpaperscissors/rps-cv-images\"\n",
        "\n",
        "os.listdir(rooter)"
      ]
    },
    {
      "cell_type": "code",
      "source": [
        "from tensorflow.keras.preprocessing.image import ImageDataGenerator\n",
        "\n",
        "rescale = 1.0 / 255.0; input_image = (150, 150)\n",
        "\n",
        "class_label = \"categorical\"; batches = 18\n",
        "\n",
        "validation_split = 0.4\n",
        "\n",
        "creator = ImageDataGenerator(\n",
        "  rescale = rescale,\n",
        "  rotation_range = 20,\n",
        "  zoom_range = 0.2,\n",
        "  shear_range = 0.2,\n",
        "  fill_mode = \"nearest\",\n",
        "  validation_split = validation_split\n",
        ")\n",
        "\n",
        "train = creator.flow_from_directory(\n",
        "  rooter,\n",
        "  target_size = input_image,\n",
        "  batch_size = batches,\n",
        "  class_mode = class_label,\n",
        "  subset = \"training\"\n",
        ")"
      ],
      "metadata": {
        "id": "tP24qw3cyCXy"
      },
      "id": "tP24qw3cyCXy",
      "execution_count": null,
      "outputs": []
    },
    {
      "cell_type": "code",
      "execution_count": 7,
      "id": "a69009fc-2e26-43fc-872a-c7ee99afee27",
      "metadata": {
        "id": "a69009fc-2e26-43fc-872a-c7ee99afee27",
        "outputId": "4c7814d5-2e60-4c80-f6f2-cdbdeab97b40",
        "colab": {
          "base_uri": "https://localhost:8080/"
        }
      },
      "outputs": [
        {
          "output_type": "execute_result",
          "data": {
            "text/plain": [
              "{'paper': 0, 'rock': 1, 'scissors': 2}"
            ]
          },
          "metadata": {},
          "execution_count": 7
        }
      ],
      "source": [
        "train.class_indices"
      ]
    },
    {
      "cell_type": "code",
      "source": [
        "label = list(train.class_indices.keys())\n",
        "\n",
        "label"
      ],
      "metadata": {
        "id": "Zdd9ZPf9zk63",
        "outputId": "26973cb7-db4b-4aad-b7e5-961dc5597ea0",
        "colab": {
          "base_uri": "https://localhost:8080/"
        }
      },
      "id": "Zdd9ZPf9zk63",
      "execution_count": 8,
      "outputs": [
        {
          "output_type": "execute_result",
          "data": {
            "text/plain": [
              "['paper', 'rock', 'scissors']"
            ]
          },
          "metadata": {},
          "execution_count": 8
        }
      ]
    },
    {
      "cell_type": "code",
      "source": [
        "train.num_batches"
      ],
      "metadata": {
        "id": "3HTwKXqr59vP",
        "outputId": "97c4d243-182d-4049-8cb5-616bfce84108",
        "colab": {
          "base_uri": "https://localhost:8080/"
        }
      },
      "id": "3HTwKXqr59vP",
      "execution_count": 9,
      "outputs": [
        {
          "output_type": "execute_result",
          "data": {
            "text/plain": [
              "73"
            ]
          },
          "metadata": {},
          "execution_count": 9
        }
      ]
    },
    {
      "cell_type": "code",
      "source": [
        "validation = creator.flow_from_directory(\n",
        "  rooter,\n",
        "  target_size = input_image,\n",
        "  batch_size = batches,\n",
        "  class_mode = class_label,\n",
        "  subset = \"validation\"\n",
        ")"
      ],
      "metadata": {
        "id": "uzLiZIuf5x9B"
      },
      "id": "uzLiZIuf5x9B",
      "execution_count": null,
      "outputs": []
    },
    {
      "cell_type": "code",
      "source": [
        "from tensorflow.keras.models import Sequential\n",
        "\n",
        "input_shape = (150, 150, 3)\n",
        "\n",
        "from tensorflow.keras.layers import Conv2D, MaxPool2D\n",
        "\n",
        "from tensorflow.keras.layers import Dropout, Flatten, Dense\n",
        "\n",
        "model = Sequential([\n",
        "  Conv2D(16, 3, activation=\"relu\", padding=\"same\", input_shape=input_shape),\n",
        "  MaxPool2D((2, 2)),\n",
        "  Conv2D(32, 3, activation=\"relu\", padding=\"same\"),\n",
        "  MaxPool2D((2, 2)),\n",
        "  Conv2D(64, 3, activation=\"relu\", padding=\"same\"),\n",
        "  MaxPool2D((2, 2)),\n",
        "  Conv2D(128, 3, activation=\"relu\", padding=\"same\"),\n",
        "  MaxPool2D((2, 2)),\n",
        "  Dropout(0.3),\n",
        "  Flatten(),\n",
        "  Dense(128, activation=\"relu\"),\n",
        "  Dense(3, activation=\"softmax\")\n",
        "])"
      ],
      "metadata": {
        "id": "HDt0zafZ6gHD"
      },
      "id": "HDt0zafZ6gHD",
      "execution_count": 11,
      "outputs": []
    },
    {
      "cell_type": "code",
      "source": [
        "loss = \"categorical_crossentropy\"\n",
        "\n",
        "model.compile(optimizer=\"adam\", loss=loss, metrics=[\"accuracy\"])"
      ],
      "metadata": {
        "id": "K_SJ30EA6i7o"
      },
      "id": "K_SJ30EA6i7o",
      "execution_count": 12,
      "outputs": []
    },
    {
      "cell_type": "code",
      "source": [
        "from tensorflow.keras.callbacks import Callback, EarlyStopping\n",
        "\n",
        "class Matrit(Callback):\n",
        "  def on_epoch_end(self, epoch, logs=None):\n",
        "    if logs.get(\"accuracy\") >= 0.95 and logs.get(\"val_accuracy\") >= 0.95:\n",
        "      self.model.stop_training = True\n",
        "\n",
        "callbacks = Matrit()\n",
        "\n",
        "stopper = EarlyStopping(monitor=\"val_loss\", patience=3)"
      ],
      "metadata": {
        "id": "-KwjdalJ6nEU"
      },
      "id": "-KwjdalJ6nEU",
      "execution_count": 13,
      "outputs": []
    },
    {
      "cell_type": "code",
      "source": [
        "epochs = 19\n",
        "\n",
        "monitor = [callbacks, stopper]\n",
        "\n",
        "plot = model.fit(train, validation_data=validation, epochs=epochs, callbacks=monitor)"
      ],
      "metadata": {
        "id": "Yvm2aTZG662G"
      },
      "id": "Yvm2aTZG662G",
      "execution_count": null,
      "outputs": []
    },
    {
      "cell_type": "code",
      "source": [
        "model.evaluate(train, verbose=0)"
      ],
      "metadata": {
        "id": "Rbf9G_527vtF",
        "outputId": "8c6a9720-b9fb-49d8-d0d2-15d8601a044c",
        "colab": {
          "base_uri": "https://localhost:8080/"
        }
      },
      "id": "Rbf9G_527vtF",
      "execution_count": 15,
      "outputs": [
        {
          "output_type": "execute_result",
          "data": {
            "text/plain": [
              "[0.07641618698835373, 0.9764078855514526]"
            ]
          },
          "metadata": {},
          "execution_count": 15
        }
      ]
    },
    {
      "cell_type": "code",
      "source": [
        "model.evaluate(validation, verbose=0)"
      ],
      "metadata": {
        "id": "YBB1CmAL7yS5",
        "outputId": "ab34b9ce-c475-4f22-9c64-d298be23f1f7",
        "colab": {
          "base_uri": "https://localhost:8080/"
        }
      },
      "id": "YBB1CmAL7yS5",
      "execution_count": 16,
      "outputs": [
        {
          "output_type": "execute_result",
          "data": {
            "text/plain": [
              "[0.1003255620598793, 0.9691075682640076]"
            ]
          },
          "metadata": {},
          "execution_count": 16
        }
      ]
    },
    {
      "cell_type": "code",
      "source": [
        "import tensorflow.keras.utils as utils\n",
        "\n",
        "import os\n",
        "\n",
        "tester = \"/content/rockpaperscissors/rockpaperscissors/rock/00nKV8oHuTGi20gq.png\"\n",
        "\n",
        "i = utils.load_img(tester, target_size=(150, 150))\n",
        "\n",
        "i = utils.img_to_array(i)\n",
        "\n",
        "i = tf.expand_dims(i, axis=0)\n",
        "\n",
        "i = tf.cast(i / 255.0, tf.float32)\n",
        "\n",
        "result = model.predict(i, verbose=0)[0]\n",
        "\n",
        "result = label[result.argmax()]\n",
        "\n",
        "result"
      ],
      "metadata": {
        "id": "E_0UduMN77ud",
        "outputId": "631e030c-20e5-4dec-ec9f-07dfcba03522",
        "colab": {
          "base_uri": "https://localhost:8080/",
          "height": 35
        }
      },
      "id": "E_0UduMN77ud",
      "execution_count": 17,
      "outputs": [
        {
          "output_type": "execute_result",
          "data": {
            "text/plain": [
              "'rock'"
            ],
            "application/vnd.google.colaboratory.intrinsic+json": {
              "type": "string"
            }
          },
          "metadata": {},
          "execution_count": 17
        }
      ]
    },
    {
      "cell_type": "code",
      "source": [
        "plot = Helplot(plot)\n",
        "\n",
        "plot.trainplot"
      ],
      "metadata": {
        "id": "oHvs4LFfLxkW",
        "outputId": "6efbb92b-7d73-4a15-fe9a-256114354878",
        "colab": {
          "base_uri": "https://localhost:8080/",
          "height": 411
        }
      },
      "id": "oHvs4LFfLxkW",
      "execution_count": 18,
      "outputs": [
        {
          "output_type": "display_data",
          "data": {
            "text/plain": [
              "<Figure size 1000x500 with 2 Axes>"
            ],
            "image/png": "[encoded data removed]"
          },
          "metadata": {}
        }
      ]
    },
    {
      "cell_type": "code",
      "source": [
        "plot.testiplot"
      ],
      "metadata": {
        "id": "_m_bwCYQMBWQ",
        "outputId": "e42100fc-d4dc-49e5-fd5f-a846dff9cc4f",
        "colab": {
          "base_uri": "https://localhost:8080/",
          "height": 411
        }
      },
      "id": "_m_bwCYQMBWQ",
      "execution_count": 19,
      "outputs": [
        {
          "output_type": "display_data",
          "data": {
            "text/plain": [
              "<Figure size 1000x500 with 2 Axes>"
            ],
            "image/png": "[encoded data removed]"
          },
          "metadata": {}
        }
      ]
    },
    {
      "cell_type": "code",
      "source": [
        "import os\n",
        "\n",
        "molder = \"/content/model\"\n",
        "\n",
        "model.export(molder)"
      ],
      "metadata": {
        "id": "IAChRjRTMKvv"
      },
      "id": "IAChRjRTMKvv",
      "execution_count": null,
      "outputs": []
    },
    {
      "cell_type": "code",
      "source": [
        "import tensorflow as tf\n",
        "\n",
        "tflite = tf.lite.TFLiteConverter\n",
        "\n",
        "tflite_model = tflite.from_saved_model(molder)"
      ],
      "metadata": {
        "id": "bkfGNzypMNDa"
      },
      "id": "bkfGNzypMNDa",
      "execution_count": 21,
      "outputs": []
    },
    {
      "cell_type": "code",
      "source": [
        "optim = [tf.lite.Optimize.DEFAULT]\n",
        "\n",
        "tflite_model.optimizations = optim"
      ],
      "metadata": {
        "id": "eqlm1mw5MOhz"
      },
      "id": "eqlm1mw5MOhz",
      "execution_count": 22,
      "outputs": []
    },
    {
      "cell_type": "code",
      "source": [
        "import pathlib\n",
        "\n",
        "tflite_model = tflite_model.convert()\n",
        "\n",
        "tflite_model_file = pathlib.Path(\"modelite.tflite\")\n",
        "\n",
        "tflite_model_file.write_bytes(tflite_model)"
      ],
      "metadata": {
        "id": "b_FAn2X-MQ4t",
        "outputId": "c85644e5-324e-4ceb-caa3-58eb0ae6a90d",
        "colab": {
          "base_uri": "https://localhost:8080/"
        }
      },
      "id": "b_FAn2X-MQ4t",
      "execution_count": 23,
      "outputs": [
        {
          "output_type": "execute_result",
          "data": {
            "text/plain": [
              "1437456"
            ]
          },
          "metadata": {},
          "execution_count": 23
        }
      ]
    },
    {
      "cell_type": "code",
      "source": [
        "meta = lambda filepath : os.path.getsize(filepath) / float(2**20)\n",
        "\n",
        "round(meta(\"/content/modelite.tflite\"), 3)"
      ],
      "metadata": {
        "id": "vMsStxmVNvmA",
        "outputId": "7314ac33-d8aa-42b2-dde6-baa800ec9cc8",
        "colab": {
          "base_uri": "https://localhost:8080/"
        }
      },
      "id": "vMsStxmVNvmA",
      "execution_count": 24,
      "outputs": [
        {
          "output_type": "execute_result",
          "data": {
            "text/plain": [
              "1.371"
            ]
          },
          "metadata": {},
          "execution_count": 24
        }
      ]
    },
    {
      "cell_type": "code",
      "source": [
        "interpreter = tf.lite.Interpreter(model_path=\"/content/modelite.tflite\")\n",
        "\n",
        "interpreter.get_signature_list()"
      ],
      "metadata": {
        "id": "INLr8yoKO4_f",
        "outputId": "6e2ed445-4b6b-42cb-f6db-a2eda52b8335",
        "colab": {
          "base_uri": "https://localhost:8080/"
        }
      },
      "id": "INLr8yoKO4_f",
      "execution_count": 25,
      "outputs": [
        {
          "output_type": "execute_result",
          "data": {
            "text/plain": [
              "{'serving_default': {'inputs': ['keras_tensor'], 'outputs': ['output_0']}}"
            ]
          },
          "metadata": {},
          "execution_count": 25
        }
      ]
    },
    {
      "cell_type": "code",
      "source": [
        "clasilite = interpreter.get_signature_runner('serving_default')\n",
        "\n",
        "clasilite"
      ],
      "metadata": {
        "id": "P60NPSRmO71z",
        "outputId": "3df3ebf2-4162-4e70-f870-c4bbd30a5795",
        "colab": {
          "base_uri": "https://localhost:8080/"
        }
      },
      "id": "P60NPSRmO71z",
      "execution_count": 26,
      "outputs": [
        {
          "output_type": "execute_result",
          "data": {
            "text/plain": [
              "<tensorflow.lite.python.interpreter.SignatureRunner at 0x7b3f058e2ef0>"
            ]
          },
          "metadata": {},
          "execution_count": 26
        }
      ]
    },
    {
      "cell_type": "code",
      "source": [
        "paper = \"/content/rockpaperscissors/rockpaperscissors/paper\"\n",
        "\n",
        "patest = os.path.join(paper, os.listdir(paper)[0])\n",
        "\n",
        "patest"
      ],
      "metadata": {
        "id": "vz3wa9BaPEIR",
        "outputId": "a3ca4e9b-c93e-4c3a-f8c8-03c647995fed",
        "colab": {
          "base_uri": "https://localhost:8080/",
          "height": 35
        }
      },
      "id": "vz3wa9BaPEIR",
      "execution_count": 27,
      "outputs": [
        {
          "output_type": "execute_result",
          "data": {
            "text/plain": [
              "'/content/rockpaperscissors/rockpaperscissors/paper/jAh36hlZLpECSBHp.png'"
            ],
            "application/vnd.google.colaboratory.intrinsic+json": {
              "type": "string"
            }
          },
          "metadata": {},
          "execution_count": 27
        }
      ]
    },
    {
      "cell_type": "code",
      "source": [
        "i = utils.load_img(patest, target_size=(150, 150))\n",
        "\n",
        "i = utils.img_to_array(i)\n",
        "\n",
        "i = tf.expand_dims(i, axis=0)\n",
        "\n",
        "i = tf.cast(i / 255.0, tf.float32)\n",
        "\n",
        "reclat = clasilite(keras_tensor=i)['output_0']\n",
        "\n",
        "reclat"
      ],
      "metadata": {
        "id": "W6jfDIIsPOKZ",
        "outputId": "ab9e76a5-4ab3-49fe-c5bd-e6b5f310424d",
        "colab": {
          "base_uri": "https://localhost:8080/"
        }
      },
      "id": "W6jfDIIsPOKZ",
      "execution_count": 28,
      "outputs": [
        {
          "output_type": "execute_result",
          "data": {
            "text/plain": [
              "array([[9.8943055e-01, 1.0150273e-02, 4.1918043e-04]], dtype=float32)"
            ]
          },
          "metadata": {},
          "execution_count": 28
        }
      ]
    },
    {
      "cell_type": "code",
      "source": [
        "label[tf.math.argmax(reclat[0])]"
      ],
      "metadata": {
        "id": "uHxCKtAqPP1i",
        "outputId": "860e2203-b233-42c1-d8ce-c07560e730a7",
        "colab": {
          "base_uri": "https://localhost:8080/",
          "height": 35
        }
      },
      "id": "uHxCKtAqPP1i",
      "execution_count": 29,
      "outputs": [
        {
          "output_type": "execute_result",
          "data": {
            "text/plain": [
              "'paper'"
            ],
            "application/vnd.google.colaboratory.intrinsic+json": {
              "type": "string"
            }
          },
          "metadata": {},
          "execution_count": 29
        }
      ]
    }
  ],
  "metadata": {
    "kernelspec": {
      "display_name": "Python 3",
      "name": "python3"
    },
    "language_info": {
      "codemirror_mode": {
        "name": "ipython",
        "version": 3
      },
      "file_extension": ".py",
      "mimetype": "text/x-python",
      "name": "python",
      "nbconvert_exporter": "python",
      "pygments_lexer": "ipython3",
      "version": "3.9.13"
    },
    "colab": {
      "provenance": [],
      "gpuType": "T4"
    },
    "accelerator": "GPU"
  },
  "nbformat": 4,
  "nbformat_minor": 5
}