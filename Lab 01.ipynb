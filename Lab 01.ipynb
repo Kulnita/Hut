{
 "cells": [
  {
   "cell_type": "code",
   "execution_count": null,
   "id": "58bfea3b-5eb9-4eeb-96cf-3627473340c4",
   "metadata": {},
   "outputs": [],
   "source": [
    "!pip install patool --quiet\n",
    "\n",
    "import os, warnings\n",
    "\n",
    "warnings.filterwarnings(\"ignore\")"
   ]
  },
  {
   "cell_type": "code",
   "execution_count": null,
   "id": "86f2fade-cac4-42d0-8ef9-4a72692e073a",
   "metadata": {},
   "outputs": [],
   "source": [
    "import tensorflow as tf\n",
    "\n",
    "import os, patoolib, urllib"
   ]
  },
  {
   "cell_type": "code",
   "execution_count": null,
   "id": "592c7a72-a659-4069-a267-0d1c3671560f",
   "metadata": {},
   "outputs": [],
   "source": [
    "urli = \"https://github.com/dicodingacademy/assets/releases/download/release/\"\n",
    "\n",
    "dataset = \"rockpaperscissors.zip\"\n",
    "\n",
    "urllib.request.urlretrieve(os.path.join(urli, dataset), dataset)"
   ]
  },
  {
   "cell_type": "code",
   "execution_count": null,
   "id": "03af1189-5de5-4c15-8fb1-7822f6704283",
   "metadata": {},
   "outputs": [],
   "source": [
    "content = \"/content/rockpaperscissors.zip\"\n",
    "\n",
    "patoolib.extract_archive(content)"
   ]
  },
  {
   "cell_type": "code",
   "execution_count": null,
   "id": "4f5ea0b3-e2f9-4779-80fd-eb10c06764e2",
   "metadata": {},
   "outputs": [],
   "source": [
    "rooter = \"/content/rockpaperscissors/rockpaperscissors/rps-cv-images\"\n",
    "\n",
    "os.listdir(rooter)"
   ]
  },
  {
   "cell_type": "code",
   "execution_count": null,
   "id": "f773224d-92d5-4848-bd17-0b0c637f41d6",
   "metadata": {},
   "outputs": [],
   "source": [
    "import tensorflow.keras.image as image\n",
    "\n",
    "train_generator = image.ImageDataGenerator(\n",
    "  rescale = 1.0 / 255.0,\n",
    "  rotation_range = 20,\n",
    "  zoom_range = 0.2,\n",
    "  shear_range = 0.2,\n",
    "  fill_mode = \"nearest\",\n",
    "  validation_split = 0.4\n",
    ")\n",
    "\n",
    "train = generator.flow_from_directory(\n",
    "  rooter,\n",
    "  target_size = (150, 150),\n",
    "  batch_size = 32,\n",
    "  class_mode = \"categorical\",\n",
    "  subset = \"training\"\n",
    ")"
   ]
  },
  {
   "cell_type": "code",
   "execution_count": null,
   "id": "a69009fc-2e26-43fc-872a-c7ee99afee27",
   "metadata": {},
   "outputs": [],
   "source": [
    "train.class_indices"
   ]
  },
  {
   "cell_type": "code",
   "execution_count": null,
   "id": "4cb7917e-eada-48d4-be4f-b90c2706ab47",
   "metadata": {},
   "outputs": [],
   "source": [
    "validation_generator = image.ImageDataGenerator(\n",
    "  rescale = 1.0 / 255.0\n",
    ")\n",
    "\n",
    "validation = validation_generator.flow_from_directory(\n",
    "  rooter,\n",
    "  target_size = (150, 150),\n",
    "  batch_size = 32,\n",
    "  class_mode = \"categorical\",\n",
    "  subset = \"validation\"\n",
    ")"
   ]
  }
 ],
 "metadata": {
  "kernelspec": {
   "display_name": "Python 3 (ipykernel)",
   "language": "python",
   "name": "python3"
  },
  "language_info": {
   "codemirror_mode": {
    "name": "ipython",
    "version": 3
   },
   "file_extension": ".py",
   "mimetype": "text/x-python",
   "name": "python",
   "nbconvert_exporter": "python",
   "pygments_lexer": "ipython3",
   "version": "3.9.13"
  }
 },
 "nbformat": 4,
 "nbformat_minor": 5
}
