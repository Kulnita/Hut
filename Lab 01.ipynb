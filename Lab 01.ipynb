{
  "cells": [
    {
      "cell_type": "code",
      "execution_count": null,
      "id": "58bfea3b-5eb9-4eeb-96cf-3627473340c4",
      "metadata": {
        "id": "58bfea3b-5eb9-4eeb-96cf-3627473340c4"
      },
      "outputs": [],
      "source": [
        "!pip install patool --quiet\n",
        "\n",
        "import os, warnings\n",
        "\n",
        "warnings.filterwarnings(\"ignore\")"
      ]
    },
    {
      "cell_type": "code",
      "execution_count": 2,
      "id": "86f2fade-cac4-42d0-8ef9-4a72692e073a",
      "metadata": {
        "id": "86f2fade-cac4-42d0-8ef9-4a72692e073a"
      },
      "outputs": [],
      "source": [
        "import tensorflow as tf\n",
        "\n",
        "import os, patoolib, urllib"
      ]
    },
    {
      "cell_type": "code",
      "execution_count": null,
      "id": "592c7a72-a659-4069-a267-0d1c3671560f",
      "metadata": {
        "id": "592c7a72-a659-4069-a267-0d1c3671560f"
      },
      "outputs": [],
      "source": [
        "urli = \"https://github.com/dicodingacademy/assets/releases/download/release/\"\n",
        "\n",
        "dataset = \"rockpaperscissors.zip\"\n",
        "\n",
        "urllib.request.urlretrieve(os.path.join(urli, dataset), dataset)"
      ]
    },
    {
      "cell_type": "code",
      "execution_count": null,
      "id": "03af1189-5de5-4c15-8fb1-7822f6704283",
      "metadata": {
        "id": "03af1189-5de5-4c15-8fb1-7822f6704283"
      },
      "outputs": [],
      "source": [
        "content = \"/content/rockpaperscissors.zip\"\n",
        "\n",
        "patoolib.extract_archive(content)"
      ]
    },
    {
      "cell_type": "code",
      "execution_count": 5,
      "id": "4f5ea0b3-e2f9-4779-80fd-eb10c06764e2",
      "metadata": {
        "id": "4f5ea0b3-e2f9-4779-80fd-eb10c06764e2",
        "outputId": "47d456fd-4507-4d05-adc6-fb83103c8402",
        "colab": {
          "base_uri": "https://localhost:8080/"
        }
      },
      "outputs": [
        {
          "output_type": "execute_result",
          "data": {
            "text/plain": [
              "['README_rpc-cv-images.txt', 'scissors', 'rock', 'paper']"
            ]
          },
          "metadata": {},
          "execution_count": 5
        }
      ],
      "source": [
        "rooter = \"/content/rockpaperscissors/rockpaperscissors/rps-cv-images\"\n",
        "\n",
        "os.listdir(rooter)"
      ]
    },
    {
      "cell_type": "code",
      "source": [
        "from tensorflow.keras.preprocessing.image import ImageDataGenerator\n",
        "\n",
        "rescale = 1.0 / 255.0; input_image = (150, 150)\n",
        "\n",
        "class_label = \"categorical\"; batches = 18\n",
        "\n",
        "validation_split = 0.4\n",
        "\n",
        "creator = ImageDataGenerator(\n",
        "  rescale = rescale,\n",
        "  rotation_range = 20,\n",
        "  zoom_range = 0.2,\n",
        "  shear_range = 0.2,\n",
        "  fill_mode = \"nearest\",\n",
        "  validation_split = validation_split\n",
        ")\n",
        "\n",
        "train = creator.flow_from_directory(\n",
        "  rooter,\n",
        "  target_size = input_image,\n",
        "  batch_size = batches,\n",
        "  class_mode = class_label,\n",
        "  subset = \"training\"\n",
        ")"
      ],
      "metadata": {
        "id": "tP24qw3cyCXy"
      },
      "id": "tP24qw3cyCXy",
      "execution_count": null,
      "outputs": []
    },
    {
      "cell_type": "code",
      "execution_count": 7,
      "id": "a69009fc-2e26-43fc-872a-c7ee99afee27",
      "metadata": {
        "id": "a69009fc-2e26-43fc-872a-c7ee99afee27",
        "outputId": "f1a9293e-6d6f-429b-c817-e048329899e8",
        "colab": {
          "base_uri": "https://localhost:8080/"
        }
      },
      "outputs": [
        {
          "output_type": "execute_result",
          "data": {
            "text/plain": [
              "{'paper': 0, 'rock': 1, 'scissors': 2}"
            ]
          },
          "metadata": {},
          "execution_count": 7
        }
      ],
      "source": [
        "train.class_indices"
      ]
    },
    {
      "cell_type": "code",
      "source": [
        "label = list(train.class_indices.keys())\n",
        "\n",
        "label"
      ],
      "metadata": {
        "id": "Zdd9ZPf9zk63",
        "outputId": "fcfeb610-aae2-456a-c7f6-9d1f75b3b929",
        "colab": {
          "base_uri": "https://localhost:8080/"
        }
      },
      "id": "Zdd9ZPf9zk63",
      "execution_count": 8,
      "outputs": [
        {
          "output_type": "execute_result",
          "data": {
            "text/plain": [
              "['paper', 'rock', 'scissors']"
            ]
          },
          "metadata": {},
          "execution_count": 8
        }
      ]
    },
    {
      "cell_type": "code",
      "source": [
        "train.num_batches"
      ],
      "metadata": {
        "id": "3HTwKXqr59vP",
        "outputId": "21f85370-1837-4c11-86bb-e91d4a64e4f5",
        "colab": {
          "base_uri": "https://localhost:8080/"
        }
      },
      "id": "3HTwKXqr59vP",
      "execution_count": 9,
      "outputs": [
        {
          "output_type": "execute_result",
          "data": {
            "text/plain": [
              "73"
            ]
          },
          "metadata": {},
          "execution_count": 9
        }
      ]
    },
    {
      "cell_type": "code",
      "source": [
        "validation = creator.flow_from_directory(\n",
        "  rooter,\n",
        "  target_size = input_image,\n",
        "  batch_size = batches,\n",
        "  class_mode = class_label,\n",
        "  subset = \"validation\"\n",
        ")"
      ],
      "metadata": {
        "id": "uzLiZIuf5x9B"
      },
      "id": "uzLiZIuf5x9B",
      "execution_count": null,
      "outputs": []
    },
    {
      "cell_type": "code",
      "source": [
        "from tensorflow.keras.models import Sequential\n",
        "\n",
        "input_shape = (150, 150, 3)\n",
        "\n",
        "from tensorflow.keras.layers import Conv2D, MaxPool2D\n",
        "\n",
        "from tensorflow.keras.layers import Dropout, Flatten, Dense\n",
        "\n",
        "model = Sequential([\n",
        "  Conv2D(16, 3, activation=\"relu\", padding=\"same\", input_shape=input_shape),\n",
        "  MaxPool2D((2, 2)),\n",
        "  Conv2D(32, 3, activation=\"relu\", padding=\"same\"),\n",
        "  MaxPool2D((2, 2)),\n",
        "  Conv2D(64, 3, activation=\"relu\", padding=\"same\"),\n",
        "  MaxPool2D((2, 2)),\n",
        "  Conv2D(128, 3, activation=\"relu\", padding=\"same\"),\n",
        "  MaxPool2D((2, 2)),\n",
        "  Dropout(0.3),\n",
        "  Flatten(),\n",
        "  Dense(128, activation=\"relu\"),\n",
        "  Dense(3, activation=\"softmax\")\n",
        "])"
      ],
      "metadata": {
        "id": "HDt0zafZ6gHD"
      },
      "id": "HDt0zafZ6gHD",
      "execution_count": 11,
      "outputs": []
    },
    {
      "cell_type": "code",
      "source": [
        "loss = \"categorical_crossentropy\"\n",
        "\n",
        "model.compile(optimizer=\"adam\", loss=loss, metrics=[\"accuracy\"])"
      ],
      "metadata": {
        "id": "K_SJ30EA6i7o"
      },
      "id": "K_SJ30EA6i7o",
      "execution_count": 12,
      "outputs": []
    },
    {
      "cell_type": "code",
      "source": [
        "from tensorflow.keras.callbacks import Callback, EarlyStopping\n",
        "\n",
        "class Matrit(Callback):\n",
        "  def on_epoch_end(self, epoch, logs=None):\n",
        "    if logs.get(\"accuracy\") >= 0.95 and logs.get(\"val_accuracy\") >= 0.95:\n",
        "      self.model.stop_training = True\n",
        "\n",
        "callbacks = Matrit()\n",
        "\n",
        "stopper = EarlyStopping(monitor=\"val_loss\", patience=3)"
      ],
      "metadata": {
        "id": "-KwjdalJ6nEU"
      },
      "id": "-KwjdalJ6nEU",
      "execution_count": 13,
      "outputs": []
    },
    {
      "cell_type": "code",
      "source": [
        "epochs = 19\n",
        "\n",
        "monitor = [callbacks, stopper]\n",
        "\n",
        "plot = model.fit(train, validation_data=validation, epochs=epochs, callbacks=monitor)"
      ],
      "metadata": {
        "id": "Yvm2aTZG662G"
      },
      "id": "Yvm2aTZG662G",
      "execution_count": null,
      "outputs": []
    },
    {
      "cell_type": "code",
      "source": [
        "model.evaluate(train, verbose=0)"
      ],
      "metadata": {
        "id": "Rbf9G_527vtF",
        "outputId": "48ffe354-2694-4cee-cd37-d374a1c9b31a",
        "colab": {
          "base_uri": "https://localhost:8080/"
        }
      },
      "id": "Rbf9G_527vtF",
      "execution_count": 15,
      "outputs": [
        {
          "output_type": "execute_result",
          "data": {
            "text/plain": [
              "[0.07975878566503525, 0.9687975645065308]"
            ]
          },
          "metadata": {},
          "execution_count": 15
        }
      ]
    },
    {
      "cell_type": "code",
      "source": [
        "model.evaluate(validation, verbose=0)"
      ],
      "metadata": {
        "id": "YBB1CmAL7yS5",
        "outputId": "b8ea4a2e-e1ea-450a-99f9-5d92f38e3e5c",
        "colab": {
          "base_uri": "https://localhost:8080/"
        }
      },
      "id": "YBB1CmAL7yS5",
      "execution_count": 16,
      "outputs": [
        {
          "output_type": "execute_result",
          "data": {
            "text/plain": [
              "[0.11562804132699966, 0.9610983729362488]"
            ]
          },
          "metadata": {},
          "execution_count": 16
        }
      ]
    },
    {
      "cell_type": "code",
      "source": [
        "import tensorflow.keras.utils as utils\n",
        "\n",
        "import os\n",
        "\n",
        "tester = \"/content/rockpaperscissors/rockpaperscissors/rock/00nKV8oHuTGi20gq.png\"\n",
        "\n",
        "i = utils.load_img(tester, target_size=(150, 150))\n",
        "\n",
        "i = utils.img_to_array(i)\n",
        "\n",
        "i = tf.expand_dims(i, axis=0)\n",
        "\n",
        "i = tf.cast(i / 255.0, tf.float32)\n",
        "\n",
        "result = model.predict(i, verbose=0)[0]\n",
        "\n",
        "result = label[result.argmax()]\n",
        "\n",
        "result"
      ],
      "metadata": {
        "id": "E_0UduMN77ud",
        "outputId": "2c2fa796-8f59-4794-b47a-af870cbd6d27",
        "colab": {
          "base_uri": "https://localhost:8080/",
          "height": 36
        }
      },
      "id": "E_0UduMN77ud",
      "execution_count": 17,
      "outputs": [
        {
          "output_type": "execute_result",
          "data": {
            "text/plain": [
              "'rock'"
            ],
            "application/vnd.google.colaboratory.intrinsic+json": {
              "type": "string"
            }
          },
          "metadata": {},
          "execution_count": 17
        }
      ]
    }
  ],
  "metadata": {
    "kernelspec": {
      "display_name": "Python 3",
      "name": "python3"
    },
    "language_info": {
      "codemirror_mode": {
        "name": "ipython",
        "version": 3
      },
      "file_extension": ".py",
      "mimetype": "text/x-python",
      "name": "python",
      "nbconvert_exporter": "python",
      "pygments_lexer": "ipython3",
      "version": "3.9.13"
    },
    "colab": {
      "provenance": [],
      "gpuType": "T4"
    },
    "accelerator": "GPU"
  },
  "nbformat": 4,
  "nbformat_minor": 5
}